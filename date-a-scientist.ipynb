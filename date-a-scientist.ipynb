{
 "cells": [
  {
   "cell_type": "markdown",
   "metadata": {},
   "source": [
    "First: importing necessary packages for analysis, visualisation and model building"
   ]
  },
  {
   "cell_type": "code",
   "execution_count": 803,
   "metadata": {},
   "outputs": [],
   "source": [
    "import pandas as pd\n",
    "import numpy as np\n",
    "import matplotlib.pyplot as plt\n",
    "import seaborn as sns\n",
    "import re\n",
    "from nltk.tokenize import word_tokenize\n",
    "from sklearn.preprocessing import scale\n",
    "from sklearn.neighbors import KNeighborsClassifier\n",
    "from sklearn.model_selection import train_test_split\n",
    "from sklearn.metrics import accuracy_score, recall_score, precision_score, f1_score\n",
    "from collections import Counter\n",
    "from sklearn.metrics import classification_report, confusion_matrix\n",
    "from sklearn.ensemble import RandomForestClassifier\n",
    "from sklearn.naive_bayes import MultinomialNB\n",
    "from sklearn.feature_extraction.text import CountVectorizer"
   ]
  },
  {
   "cell_type": "markdown",
   "metadata": {},
   "source": [
    "Getting a feel for the dataset"
   ]
  },
  {
   "cell_type": "code",
   "execution_count": 718,
   "metadata": {},
   "outputs": [],
   "source": [
    "#Loading the CSV file into a pandas DataFrame\n",
    "date = pd.read_csv('profiles.csv')"
   ]
  },
  {
   "cell_type": "markdown",
   "metadata": {},
   "source": [
    "Getting a feel for the data: column names, shape of the dataframe, head of the dataset, info and describe."
   ]
  },
  {
   "cell_type": "code",
   "execution_count": 719,
   "metadata": {},
   "outputs": [
    {
     "name": "stdout",
     "output_type": "stream",
     "text": [
      "Index(['age', 'body_type', 'diet', 'drinks', 'drugs', 'education', 'essay0',\n",
      "       'essay1', 'essay2', 'essay3', 'essay4', 'essay5', 'essay6', 'essay7',\n",
      "       'essay8', 'essay9', 'ethnicity', 'height', 'income', 'job',\n",
      "       'last_online', 'location', 'offspring', 'orientation', 'pets',\n",
      "       'religion', 'sex', 'sign', 'smokes', 'speaks', 'status'],\n",
      "      dtype='object')\n",
      "(59946, 31)\n"
     ]
    }
   ],
   "source": [
    "print(date.columns)\n",
    "print(date.shape)"
   ]
  },
  {
   "cell_type": "markdown",
   "metadata": {},
   "source": [
    "Looks like there are 31 columns including 10 essays, age, lifestyle factors, social variables and measure of activity on OK-Cupid."
   ]
  },
  {
   "cell_type": "code",
   "execution_count": 720,
   "metadata": {},
   "outputs": [
    {
     "data": {
      "text/html": [
       "<div>\n",
       "<style scoped>\n",
       "    .dataframe tbody tr th:only-of-type {\n",
       "        vertical-align: middle;\n",
       "    }\n",
       "\n",
       "    .dataframe tbody tr th {\n",
       "        vertical-align: top;\n",
       "    }\n",
       "\n",
       "    .dataframe thead th {\n",
       "        text-align: right;\n",
       "    }\n",
       "</style>\n",
       "<table border=\"1\" class=\"dataframe\">\n",
       "  <thead>\n",
       "    <tr style=\"text-align: right;\">\n",
       "      <th></th>\n",
       "      <th>age</th>\n",
       "      <th>body_type</th>\n",
       "      <th>diet</th>\n",
       "      <th>drinks</th>\n",
       "      <th>drugs</th>\n",
       "      <th>education</th>\n",
       "      <th>essay0</th>\n",
       "      <th>essay1</th>\n",
       "      <th>essay2</th>\n",
       "      <th>essay3</th>\n",
       "      <th>...</th>\n",
       "      <th>location</th>\n",
       "      <th>offspring</th>\n",
       "      <th>orientation</th>\n",
       "      <th>pets</th>\n",
       "      <th>religion</th>\n",
       "      <th>sex</th>\n",
       "      <th>sign</th>\n",
       "      <th>smokes</th>\n",
       "      <th>speaks</th>\n",
       "      <th>status</th>\n",
       "    </tr>\n",
       "  </thead>\n",
       "  <tbody>\n",
       "    <tr>\n",
       "      <th>0</th>\n",
       "      <td>22</td>\n",
       "      <td>a little extra</td>\n",
       "      <td>strictly anything</td>\n",
       "      <td>socially</td>\n",
       "      <td>never</td>\n",
       "      <td>working on college/university</td>\n",
       "      <td>about me:&lt;br /&gt;\\n&lt;br /&gt;\\ni would love to think...</td>\n",
       "      <td>currently working as an international agent fo...</td>\n",
       "      <td>making people laugh.&lt;br /&gt;\\nranting about a go...</td>\n",
       "      <td>the way i look. i am a six foot half asian, ha...</td>\n",
       "      <td>...</td>\n",
       "      <td>south san francisco, california</td>\n",
       "      <td>doesn&amp;rsquo;t have kids, but might want them</td>\n",
       "      <td>straight</td>\n",
       "      <td>likes dogs and likes cats</td>\n",
       "      <td>agnosticism and very serious about it</td>\n",
       "      <td>m</td>\n",
       "      <td>gemini</td>\n",
       "      <td>sometimes</td>\n",
       "      <td>english</td>\n",
       "      <td>single</td>\n",
       "    </tr>\n",
       "    <tr>\n",
       "      <th>1</th>\n",
       "      <td>35</td>\n",
       "      <td>average</td>\n",
       "      <td>mostly other</td>\n",
       "      <td>often</td>\n",
       "      <td>sometimes</td>\n",
       "      <td>working on space camp</td>\n",
       "      <td>i am a chef: this is what that means.&lt;br /&gt;\\n1...</td>\n",
       "      <td>dedicating everyday to being an unbelievable b...</td>\n",
       "      <td>being silly. having ridiculous amonts of fun w...</td>\n",
       "      <td>NaN</td>\n",
       "      <td>...</td>\n",
       "      <td>oakland, california</td>\n",
       "      <td>doesn&amp;rsquo;t have kids, but might want them</td>\n",
       "      <td>straight</td>\n",
       "      <td>likes dogs and likes cats</td>\n",
       "      <td>agnosticism but not too serious about it</td>\n",
       "      <td>m</td>\n",
       "      <td>cancer</td>\n",
       "      <td>no</td>\n",
       "      <td>english (fluently), spanish (poorly), french (...</td>\n",
       "      <td>single</td>\n",
       "    </tr>\n",
       "    <tr>\n",
       "      <th>2</th>\n",
       "      <td>38</td>\n",
       "      <td>thin</td>\n",
       "      <td>anything</td>\n",
       "      <td>socially</td>\n",
       "      <td>NaN</td>\n",
       "      <td>graduated from masters program</td>\n",
       "      <td>i'm not ashamed of much, but writing public te...</td>\n",
       "      <td>i make nerdy software for musicians, artists, ...</td>\n",
       "      <td>improvising in different contexts. alternating...</td>\n",
       "      <td>my large jaw and large glasses are the physica...</td>\n",
       "      <td>...</td>\n",
       "      <td>san francisco, california</td>\n",
       "      <td>NaN</td>\n",
       "      <td>straight</td>\n",
       "      <td>has cats</td>\n",
       "      <td>NaN</td>\n",
       "      <td>m</td>\n",
       "      <td>pisces but it doesn&amp;rsquo;t matter</td>\n",
       "      <td>no</td>\n",
       "      <td>english, french, c++</td>\n",
       "      <td>available</td>\n",
       "    </tr>\n",
       "    <tr>\n",
       "      <th>3</th>\n",
       "      <td>23</td>\n",
       "      <td>thin</td>\n",
       "      <td>vegetarian</td>\n",
       "      <td>socially</td>\n",
       "      <td>NaN</td>\n",
       "      <td>working on college/university</td>\n",
       "      <td>i work in a library and go to school. . .</td>\n",
       "      <td>reading things written by old dead people</td>\n",
       "      <td>playing synthesizers and organizing books acco...</td>\n",
       "      <td>socially awkward but i do my best</td>\n",
       "      <td>...</td>\n",
       "      <td>berkeley, california</td>\n",
       "      <td>doesn&amp;rsquo;t want kids</td>\n",
       "      <td>straight</td>\n",
       "      <td>likes cats</td>\n",
       "      <td>NaN</td>\n",
       "      <td>m</td>\n",
       "      <td>pisces</td>\n",
       "      <td>no</td>\n",
       "      <td>english, german (poorly)</td>\n",
       "      <td>single</td>\n",
       "    </tr>\n",
       "    <tr>\n",
       "      <th>4</th>\n",
       "      <td>29</td>\n",
       "      <td>athletic</td>\n",
       "      <td>NaN</td>\n",
       "      <td>socially</td>\n",
       "      <td>never</td>\n",
       "      <td>graduated from college/university</td>\n",
       "      <td>hey how's it going? currently vague on the pro...</td>\n",
       "      <td>work work work work + play</td>\n",
       "      <td>creating imagery to look at:&lt;br /&gt;\\nhttp://bag...</td>\n",
       "      <td>i smile a lot and my inquisitive nature</td>\n",
       "      <td>...</td>\n",
       "      <td>san francisco, california</td>\n",
       "      <td>NaN</td>\n",
       "      <td>straight</td>\n",
       "      <td>likes dogs and likes cats</td>\n",
       "      <td>NaN</td>\n",
       "      <td>m</td>\n",
       "      <td>aquarius</td>\n",
       "      <td>no</td>\n",
       "      <td>english</td>\n",
       "      <td>single</td>\n",
       "    </tr>\n",
       "  </tbody>\n",
       "</table>\n",
       "<p>5 rows × 31 columns</p>\n",
       "</div>"
      ],
      "text/plain": [
       "   age       body_type               diet    drinks      drugs  \\\n",
       "0   22  a little extra  strictly anything  socially      never   \n",
       "1   35         average       mostly other     often  sometimes   \n",
       "2   38            thin           anything  socially        NaN   \n",
       "3   23            thin         vegetarian  socially        NaN   \n",
       "4   29        athletic                NaN  socially      never   \n",
       "\n",
       "                           education  \\\n",
       "0      working on college/university   \n",
       "1              working on space camp   \n",
       "2     graduated from masters program   \n",
       "3      working on college/university   \n",
       "4  graduated from college/university   \n",
       "\n",
       "                                              essay0  \\\n",
       "0  about me:<br />\\n<br />\\ni would love to think...   \n",
       "1  i am a chef: this is what that means.<br />\\n1...   \n",
       "2  i'm not ashamed of much, but writing public te...   \n",
       "3          i work in a library and go to school. . .   \n",
       "4  hey how's it going? currently vague on the pro...   \n",
       "\n",
       "                                              essay1  \\\n",
       "0  currently working as an international agent fo...   \n",
       "1  dedicating everyday to being an unbelievable b...   \n",
       "2  i make nerdy software for musicians, artists, ...   \n",
       "3          reading things written by old dead people   \n",
       "4                         work work work work + play   \n",
       "\n",
       "                                              essay2  \\\n",
       "0  making people laugh.<br />\\nranting about a go...   \n",
       "1  being silly. having ridiculous amonts of fun w...   \n",
       "2  improvising in different contexts. alternating...   \n",
       "3  playing synthesizers and organizing books acco...   \n",
       "4  creating imagery to look at:<br />\\nhttp://bag...   \n",
       "\n",
       "                                              essay3  ...  \\\n",
       "0  the way i look. i am a six foot half asian, ha...  ...   \n",
       "1                                                NaN  ...   \n",
       "2  my large jaw and large glasses are the physica...  ...   \n",
       "3                  socially awkward but i do my best  ...   \n",
       "4            i smile a lot and my inquisitive nature  ...   \n",
       "\n",
       "                          location  \\\n",
       "0  south san francisco, california   \n",
       "1              oakland, california   \n",
       "2        san francisco, california   \n",
       "3             berkeley, california   \n",
       "4        san francisco, california   \n",
       "\n",
       "                                      offspring orientation  \\\n",
       "0  doesn&rsquo;t have kids, but might want them    straight   \n",
       "1  doesn&rsquo;t have kids, but might want them    straight   \n",
       "2                                           NaN    straight   \n",
       "3                       doesn&rsquo;t want kids    straight   \n",
       "4                                           NaN    straight   \n",
       "\n",
       "                        pets                                  religion sex  \\\n",
       "0  likes dogs and likes cats     agnosticism and very serious about it   m   \n",
       "1  likes dogs and likes cats  agnosticism but not too serious about it   m   \n",
       "2                   has cats                                       NaN   m   \n",
       "3                 likes cats                                       NaN   m   \n",
       "4  likes dogs and likes cats                                       NaN   m   \n",
       "\n",
       "                                 sign     smokes  \\\n",
       "0                              gemini  sometimes   \n",
       "1                              cancer         no   \n",
       "2  pisces but it doesn&rsquo;t matter         no   \n",
       "3                              pisces         no   \n",
       "4                            aquarius         no   \n",
       "\n",
       "                                              speaks     status  \n",
       "0                                            english     single  \n",
       "1  english (fluently), spanish (poorly), french (...     single  \n",
       "2                               english, french, c++  available  \n",
       "3                           english, german (poorly)     single  \n",
       "4                                            english     single  \n",
       "\n",
       "[5 rows x 31 columns]"
      ]
     },
     "execution_count": 720,
     "metadata": {},
     "output_type": "execute_result"
    }
   ],
   "source": [
    "date.head()"
   ]
  },
  {
   "cell_type": "code",
   "execution_count": 721,
   "metadata": {},
   "outputs": [
    {
     "name": "stdout",
     "output_type": "stream",
     "text": [
      "<class 'pandas.core.frame.DataFrame'>\n",
      "RangeIndex: 59946 entries, 0 to 59945\n",
      "Data columns (total 31 columns):\n",
      " #   Column       Non-Null Count  Dtype  \n",
      "---  ------       --------------  -----  \n",
      " 0   age          59946 non-null  int64  \n",
      " 1   body_type    54650 non-null  object \n",
      " 2   diet         35551 non-null  object \n",
      " 3   drinks       56961 non-null  object \n",
      " 4   drugs        45866 non-null  object \n",
      " 5   education    53318 non-null  object \n",
      " 6   essay0       54458 non-null  object \n",
      " 7   essay1       52374 non-null  object \n",
      " 8   essay2       50308 non-null  object \n",
      " 9   essay3       48470 non-null  object \n",
      " 10  essay4       49409 non-null  object \n",
      " 11  essay5       49096 non-null  object \n",
      " 12  essay6       46175 non-null  object \n",
      " 13  essay7       47495 non-null  object \n",
      " 14  essay8       40721 non-null  object \n",
      " 15  essay9       47343 non-null  object \n",
      " 16  ethnicity    54266 non-null  object \n",
      " 17  height       59943 non-null  float64\n",
      " 18  income       59946 non-null  int64  \n",
      " 19  job          51748 non-null  object \n",
      " 20  last_online  59946 non-null  object \n",
      " 21  location     59946 non-null  object \n",
      " 22  offspring    24385 non-null  object \n",
      " 23  orientation  59946 non-null  object \n",
      " 24  pets         40025 non-null  object \n",
      " 25  religion     39720 non-null  object \n",
      " 26  sex          59946 non-null  object \n",
      " 27  sign         48890 non-null  object \n",
      " 28  smokes       54434 non-null  object \n",
      " 29  speaks       59896 non-null  object \n",
      " 30  status       59946 non-null  object \n",
      "dtypes: float64(1), int64(2), object(28)\n",
      "memory usage: 14.2+ MB\n"
     ]
    }
   ],
   "source": [
    "date.info()"
   ]
  },
  {
   "cell_type": "code",
   "execution_count": 722,
   "metadata": {},
   "outputs": [
    {
     "data": {
      "text/html": [
       "<div>\n",
       "<style scoped>\n",
       "    .dataframe tbody tr th:only-of-type {\n",
       "        vertical-align: middle;\n",
       "    }\n",
       "\n",
       "    .dataframe tbody tr th {\n",
       "        vertical-align: top;\n",
       "    }\n",
       "\n",
       "    .dataframe thead th {\n",
       "        text-align: right;\n",
       "    }\n",
       "</style>\n",
       "<table border=\"1\" class=\"dataframe\">\n",
       "  <thead>\n",
       "    <tr style=\"text-align: right;\">\n",
       "      <th></th>\n",
       "      <th>age</th>\n",
       "      <th>height</th>\n",
       "      <th>income</th>\n",
       "    </tr>\n",
       "  </thead>\n",
       "  <tbody>\n",
       "    <tr>\n",
       "      <th>count</th>\n",
       "      <td>59946.000000</td>\n",
       "      <td>59943.000000</td>\n",
       "      <td>59946.000000</td>\n",
       "    </tr>\n",
       "    <tr>\n",
       "      <th>mean</th>\n",
       "      <td>32.340290</td>\n",
       "      <td>68.295281</td>\n",
       "      <td>20033.222534</td>\n",
       "    </tr>\n",
       "    <tr>\n",
       "      <th>std</th>\n",
       "      <td>9.452779</td>\n",
       "      <td>3.994803</td>\n",
       "      <td>97346.192104</td>\n",
       "    </tr>\n",
       "    <tr>\n",
       "      <th>min</th>\n",
       "      <td>18.000000</td>\n",
       "      <td>1.000000</td>\n",
       "      <td>-1.000000</td>\n",
       "    </tr>\n",
       "    <tr>\n",
       "      <th>25%</th>\n",
       "      <td>26.000000</td>\n",
       "      <td>66.000000</td>\n",
       "      <td>-1.000000</td>\n",
       "    </tr>\n",
       "    <tr>\n",
       "      <th>50%</th>\n",
       "      <td>30.000000</td>\n",
       "      <td>68.000000</td>\n",
       "      <td>-1.000000</td>\n",
       "    </tr>\n",
       "    <tr>\n",
       "      <th>75%</th>\n",
       "      <td>37.000000</td>\n",
       "      <td>71.000000</td>\n",
       "      <td>-1.000000</td>\n",
       "    </tr>\n",
       "    <tr>\n",
       "      <th>max</th>\n",
       "      <td>110.000000</td>\n",
       "      <td>95.000000</td>\n",
       "      <td>1000000.000000</td>\n",
       "    </tr>\n",
       "  </tbody>\n",
       "</table>\n",
       "</div>"
      ],
      "text/plain": [
       "                age        height          income\n",
       "count  59946.000000  59943.000000    59946.000000\n",
       "mean      32.340290     68.295281    20033.222534\n",
       "std        9.452779      3.994803    97346.192104\n",
       "min       18.000000      1.000000       -1.000000\n",
       "25%       26.000000     66.000000       -1.000000\n",
       "50%       30.000000     68.000000       -1.000000\n",
       "75%       37.000000     71.000000       -1.000000\n",
       "max      110.000000     95.000000  1000000.000000"
      ]
     },
     "execution_count": 722,
     "metadata": {},
     "output_type": "execute_result"
    }
   ],
   "source": [
    "date.describe()"
   ]
  },
  {
   "cell_type": "markdown",
   "metadata": {},
   "source": [
    "First, let's check the disribution of males vs females, and age in this dataset to see if the gender and age distributions are representative of the wider US population."
   ]
  },
  {
   "cell_type": "code",
   "execution_count": 723,
   "metadata": {},
   "outputs": [
    {
     "name": "stdout",
     "output_type": "stream",
     "text": [
      "['m' 'f']\n",
      "[35829 24117]\n"
     ]
    },
    {
     "data": {
      "image/png": "[encoded data removed]",
      "text/plain": [
       "<Figure size 360x360 with 1 Axes>"
      ]
     },
     "metadata": {},
     "output_type": "display_data"
    }
   ],
   "source": [
    "print(date.sex.unique())\n",
    "print(date.sex.value_counts().values)\n",
    "\n",
    "#sex = date.sex.value_counts()\n",
    "#sex.plot(kind='pie', title='Sex Distribution', figsize=(5, 5), autopct='%1.1f%%', labels=['Male', 'Female'])\n",
    "#plt.show()\n",
    "\n",
    "sex_values = date.sex.value_counts().values\n",
    "\n",
    "plt.figure(figsize=(5, 5))\n",
    "\n",
    "plt.pie(sex_values, autopct='%1.1f%%', labels=['Male', 'Female'])\n",
    "plt.title('Sex Distribution')\n",
    "plt.show()"
   ]
  },
  {
   "cell_type": "markdown",
   "metadata": {},
   "source": [
    "We can see here that the sex distribution is not representitative of the US population. More males than females use OK Cupid. (59.8% to 40.2%)"
   ]
  },
  {
   "cell_type": "code",
   "execution_count": 724,
   "metadata": {},
   "outputs": [
    {
     "name": "stdout",
     "output_type": "stream",
     "text": [
      "110\n"
     ]
    }
   ],
   "source": [
    "print(date.age.max())\n",
    "# Here we can see that the oldest registered age was 110 - good on this person for getting back in the game! But it is most likely an error, so we will remove it."
   ]
  },
  {
   "cell_type": "code",
   "execution_count": 725,
   "metadata": {
    "scrolled": true
   },
   "outputs": [
    {
     "data": {
      "image/png": "[encoded data removed]",
      "text/plain": [
       "<Figure size 360x360 with 1 Axes>"
      ]
     },
     "metadata": {},
     "output_type": "display_data"
    },
    {
     "name": "stdout",
     "output_type": "stream",
     "text": [
      "Age skewness: 1.2525938507264769\n",
      "Max age: 69.0\n",
      "Mean age: 32.33771520085413\n",
      "Median age: 30.0\n"
     ]
    }
   ],
   "source": [
    "date.age = date[date.age <= 100]\n",
    "\n",
    "sns.displot(date.age)\n",
    "plt.show()\n",
    "\n",
    "print('Age skewness: ' + str(date.age.skew()))\n",
    "\n",
    "print('Max age: ' + str(date.age.max()))\n",
    "# Now we have a far more reasonable range of ages within which to do analysis.\n",
    "\n",
    "print('Mean age: ' + str(date.age.mean()))\n",
    "print('Median age: '+ str(date.age.median()))"
   ]
  },
  {
   "cell_type": "markdown",
   "metadata": {},
   "source": [
    "From this distribution, we can see that the largest age group of people that use OK Cupid are in the age range of 25-35. The distribution is skewed right, showing that most people that use an online dating website are younger. This is as expected. To make age data more suitable for ML analysis, we can use a log transformation on this data."
   ]
  },
  {
   "cell_type": "code",
   "execution_count": 726,
   "metadata": {},
   "outputs": [
    {
     "data": {
      "image/png": "[encoded data removed]",
      "text/plain": [
       "<Figure size 360x360 with 1 Axes>"
      ]
     },
     "metadata": {},
     "output_type": "display_data"
    }
   ],
   "source": [
    "date_age = date['age']\n",
    "\n",
    "date['log_age'] = date.age.apply(lambda x: np.log(x))\n",
    "\n",
    "sns.displot(date.log_age)\n",
    "plt.show()\n",
    "\n",
    "date.log_age = date.log_age.fillna(date.log_age.mean())"
   ]
  },
  {
   "cell_type": "markdown",
   "metadata": {},
   "source": [
    "Ah yes, wonderful! Now we have a more normalised age range, far better suited to ML analysis.\n",
    "Next to check is income. I will repeat a similar analysis process as done to the age category in order to get a better idea of what this column contains. From the preliminary glimpse it looks like a strange column. Describe inicates that a lot of the data is gathered around -1.000 with an outlier of 100000. Let's see what is going on here."
   ]
  },
  {
   "cell_type": "code",
   "execution_count": 727,
   "metadata": {},
   "outputs": [
    {
     "data": {
      "text/plain": [
       "<Figure size 360x576 with 0 Axes>"
      ]
     },
     "metadata": {},
     "output_type": "display_data"
    },
    {
     "data": {
      "image/png": "[encoded data removed]",
      "text/plain": [
       "<Figure size 360x360 with 1 Axes>"
      ]
     },
     "metadata": {},
     "output_type": "display_data"
    },
    {
     "name": "stdout",
     "output_type": "stream",
     "text": [
      "-1\n"
     ]
    }
   ],
   "source": [
    "plt.figure(figsize=(5, 8))\n",
    "sns.displot(date.income)\n",
    "plt.show()\n",
    "# Not the expected distribution!\n",
    "\n",
    "print(date.income.min())\n",
    "# It is not possible to have an income of -1, so there is clearly an error in the data here. Any values of -1 will be mapped to 0."
   ]
  },
  {
   "cell_type": "code",
   "execution_count": 728,
   "metadata": {},
   "outputs": [
    {
     "name": "stdout",
     "output_type": "stream",
     "text": [
      "-1          48442\n",
      " 20000       2952\n",
      " 100000      1621\n",
      " 80000       1111\n",
      " 30000       1048\n",
      " 40000       1005\n",
      " 50000        975\n",
      " 60000        736\n",
      " 70000        707\n",
      " 150000       631\n",
      " 1000000      521\n",
      " 250000       149\n",
      " 500000        48\n",
      "Name: income, dtype: int64\n"
     ]
    }
   ],
   "source": [
    "print(date.income.value_counts())"
   ]
  },
  {
   "cell_type": "code",
   "execution_count": 729,
   "metadata": {},
   "outputs": [
    {
     "name": "stdout",
     "output_type": "stream",
     "text": [
      "0\n",
      "1000000\n",
      "0          48442\n",
      "20000       2952\n",
      "100000      1621\n",
      "80000       1111\n",
      "30000       1048\n",
      "40000       1005\n",
      "50000        975\n",
      "60000        736\n",
      "70000        707\n",
      "150000       631\n",
      "1000000      521\n",
      "250000       149\n",
      "500000        48\n",
      "Name: income, dtype: int64\n",
      "0.8080939512227672\n"
     ]
    },
    {
     "data": {
      "image/png": "[encoded data removed]",
      "text/plain": [
       "<Figure size 360x360 with 1 Axes>"
      ]
     },
     "metadata": {},
     "output_type": "display_data"
    }
   ],
   "source": [
    "date.income = date.income.apply(lambda x: 0 if x < 0 else x)\n",
    "sns.displot(date.income)\n",
    "\n",
    "print(date.income.min())\n",
    "# Better!\n",
    "print(date.income.max())\n",
    "\n",
    "print(date.income.value_counts())\n",
    "\n",
    "print(48442/len(date.income))"
   ]
  },
  {
   "cell_type": "markdown",
   "metadata": {},
   "source": [
    "The minimum income is 0 and the maximum is 1,000,000. The fact that most people put their income as -1 indicates that they do not wish to disclose their income to potential partners. This could indicate that people do not want money to be a factor when it comes to finding the best romantic partner for them. 80.8% of people chose this option, so income is not a useful variable because of its unimportance in the context of this dating website."
   ]
  },
  {
   "cell_type": "markdown",
   "metadata": {},
   "source": [
    "Because we are interested in factors that are able to predict to star sign, it will be useful to see the proportion of people that list their star sign, the proportion of people that list it as an important factor in a potential partner, and the distribtion of people of various star signs in the dataset."
   ]
  },
  {
   "cell_type": "code",
   "execution_count": 730,
   "metadata": {},
   "outputs": [
    {
     "name": "stdout",
     "output_type": "stream",
     "text": [
      "gemini and it&rsquo;s fun to think about         1782\n",
      "scorpio and it&rsquo;s fun to think about        1772\n",
      "leo and it&rsquo;s fun to think about            1692\n",
      "libra and it&rsquo;s fun to think about          1649\n",
      "taurus and it&rsquo;s fun to think about         1640\n",
      "cancer and it&rsquo;s fun to think about         1597\n",
      "pisces and it&rsquo;s fun to think about         1592\n",
      "sagittarius and it&rsquo;s fun to think about    1583\n",
      "virgo and it&rsquo;s fun to think about          1574\n",
      "aries and it&rsquo;s fun to think about          1573\n",
      "aquarius and it&rsquo;s fun to think about       1503\n",
      "virgo but it doesn&rsquo;t matter                1497\n",
      "leo but it doesn&rsquo;t matter                  1457\n",
      "cancer but it doesn&rsquo;t matter               1454\n",
      "gemini but it doesn&rsquo;t matter               1453\n",
      "taurus but it doesn&rsquo;t matter               1450\n",
      "aquarius but it doesn&rsquo;t matter             1408\n",
      "libra but it doesn&rsquo;t matter                1408\n",
      "capricorn and it&rsquo;s fun to think about      1376\n",
      "sagittarius but it doesn&rsquo;t matter          1375\n",
      "aries but it doesn&rsquo;t matter                1373\n",
      "capricorn but it doesn&rsquo;t matter            1319\n",
      "pisces but it doesn&rsquo;t matter               1300\n",
      "scorpio but it doesn&rsquo;t matter              1264\n",
      "leo                                              1159\n",
      "libra                                            1098\n",
      "cancer                                           1092\n",
      "virgo                                            1029\n",
      "scorpio                                          1020\n",
      "gemini                                           1013\n",
      "taurus                                           1001\n",
      "aries                                             996\n",
      "pisces                                            992\n",
      "aquarius                                          954\n",
      "sagittarius                                       937\n",
      "capricorn                                         833\n",
      "scorpio and it matters a lot                       78\n",
      "leo and it matters a lot                           66\n",
      "cancer and it matters a lot                        63\n",
      "aquarius and it matters a lot                      63\n",
      "pisces and it matters a lot                        62\n",
      "gemini and it matters a lot                        62\n",
      "libra and it matters a lot                         52\n",
      "taurus and it matters a lot                        49\n",
      "aries and it matters a lot                         47\n",
      "sagittarius and it matters a lot                   47\n",
      "capricorn and it matters a lot                     45\n",
      "virgo and it matters a lot                         41\n",
      "Name: sign, dtype: int64\n",
      "11056\n",
      "59946\n",
      "0.18443265605711806\n"
     ]
    }
   ],
   "source": [
    "print(date.sign.value_counts())\n",
    "print(date.sign.isnull().sum())\n",
    "print(len(date.sign))\n",
    "print(11056/59946)"
   ]
  },
  {
   "cell_type": "markdown",
   "metadata": {},
   "source": [
    "We can see here that over 80% of users listed their star sign. Given the large majority of users that entered this information, we can use other factors to predict the star sign of users in this sample. Lets continue, and see the proportion of people that list their star sign as very important, and visualise the distribution of different star signs in this sample."
   ]
  },
  {
   "cell_type": "code",
   "execution_count": 731,
   "metadata": {},
   "outputs": [
    {
     "name": "stdout",
     "output_type": "stream",
     "text": [
      "0    59271\n",
      "1      675\n",
      "Name: sign_important, dtype: int64\n",
      "0.013806504397627326\n"
     ]
    }
   ],
   "source": [
    "# Function to determine how many users listed star sign as very important in a partner.\n",
    "def sign_important(x):\n",
    "    matters = 'it matters a lot' in x\n",
    "    if matters == True:\n",
    "        return 1\n",
    "    else:\n",
    "        return 0\n",
    "\n",
    "date['sign_important'] = date.sign.apply(lambda x: sign_important(str(x)))\n",
    "print(date.sign_important.value_counts())\n",
    "\n",
    "# Here I can see that there is a very small proportion of respondents to whom star sign is very important.\n",
    "\n",
    "print(675/(59946-11056))\n",
    "\n",
    "# Just 1.4% of users listed star sign as being very important, so trying to predict whether they rated it as important\n",
    "# or not will be difficult because the model would have to be highly accurate to predict such a small percentage.\n",
    "# Instead, it seems more likely that a model would have a better accuracy predicting which star sign users are."
   ]
  },
  {
   "cell_type": "code",
   "execution_count": 732,
   "metadata": {},
   "outputs": [
    {
     "name": "stdout",
     "output_type": "stream",
     "text": [
      "leo            4374\n",
      "gemini         4310\n",
      "libra          4207\n",
      "cancer         4206\n",
      "virgo          4141\n",
      "taurus         4140\n",
      "scorpio        4134\n",
      "aries          3989\n",
      "pisces         3946\n",
      "sagittarius    3942\n",
      "aquarius       3928\n",
      "capricorn      3573\n",
      "Name: sign_clean, dtype: int64\n"
     ]
    }
   ],
   "source": [
    "# Creating a column of cleaned sign values, without the level of it mattering in order to predict star sign\n",
    "\n",
    "date['sign_clean'] = date.sign.apply(lambda x: (str(x).split(' '))[0])\n",
    "date.sign_clean.replace('nan', np.NaN, inplace = True)\n",
    "print(date.sign_clean.value_counts())"
   ]
  },
  {
   "cell_type": "code",
   "execution_count": 733,
   "metadata": {},
   "outputs": [
    {
     "data": {
      "image/png": "[encoded data removed]",
      "text/plain": [
       "<Figure size 432x288 with 1 Axes>"
      ]
     },
     "metadata": {},
     "output_type": "display_data"
    }
   ],
   "source": [
    "sign_counts = date.sign_clean.value_counts()\n",
    "\n",
    "ax = plt.subplot\n",
    "sns.barplot(x=sign_counts.index, y=sign_counts.values)\n",
    "plt.xticks(rotation=30)\n",
    "plt.xlabel('Star sign')\n",
    "plt.ylabel('Count')\n",
    "plt.title('Number of OK Cupid users per star sign')\n",
    "plt.show()"
   ]
  },
  {
   "cell_type": "markdown",
   "metadata": {},
   "source": [
    "Pretty even distribution of star signs in this dataset. "
   ]
  },
  {
   "cell_type": "markdown",
   "metadata": {},
   "source": [
    "PROJECT SCOPE\n",
    "\n",
    "What other factors am I interested in using when trying to predict a users star sign?\n",
    "Education could be interesting. Does education level predict star sign?\n",
    "Lifestyle choice could be interesting too. Different star signs are well known for their various traits and behaviours. Could these lifestyle choices predict which star sign a user is? Could religion be predictive of star sign? Are certain star signs more likely to be religious than others?\n",
    "For these multiple lifestyle factors, K nearest neighbors or random forest could be good predictive models.\n",
    "\n",
    "Another interesting one would be users' responses to the essay questions, and the lanuage that they use. Do different star signs use specific or identifying language in their responses?\n",
    "Naive Bayes classifier would be good for this."
   ]
  },
  {
   "cell_type": "code",
   "execution_count": 734,
   "metadata": {},
   "outputs": [
    {
     "name": "stdout",
     "output_type": "stream",
     "text": [
      "graduated from college/university    23959\n",
      "graduated from masters program        8961\n",
      "working on college/university         5712\n",
      "working on masters program            1683\n",
      "graduated from two-year college       1531\n",
      "graduated from high school            1428\n",
      "graduated from ph.d program           1272\n",
      "graduated from law school             1122\n",
      "working on two-year college           1074\n",
      "dropped out of college/university      995\n",
      "working on ph.d program                983\n",
      "college/university                     801\n",
      "graduated from space camp              657\n",
      "dropped out of space camp              523\n",
      "graduated from med school              446\n",
      "working on space camp                  445\n",
      "working on law school                  269\n",
      "two-year college                       222\n",
      "working on med school                  212\n",
      "dropped out of two-year college        191\n",
      "dropped out of masters program         140\n",
      "masters program                        136\n",
      "dropped out of ph.d program            127\n",
      "dropped out of high school             102\n",
      "high school                             96\n",
      "working on high school                  87\n",
      "space camp                              58\n",
      "ph.d program                            26\n",
      "law school                              19\n",
      "dropped out of law school               18\n",
      "dropped out of med school               12\n",
      "med school                              11\n",
      "Name: education, dtype: int64\n"
     ]
    }
   ],
   "source": [
    "# Lets start with education\n",
    "\n",
    "print(date.education.value_counts())"
   ]
  },
  {
   "cell_type": "code",
   "execution_count": 735,
   "metadata": {},
   "outputs": [
    {
     "name": "stdout",
     "output_type": "stream",
     "text": [
      "[1. 0. 2.]\n",
      "[1 0 2]\n"
     ]
    }
   ],
   "source": [
    "# Mapping education to numeric values (ordinal values). 0 - less than a college degree, 1 - a college degree, 2 - greater than a college degree\n",
    "\n",
    "education_map = {'dropped out of high school': 0,\n",
    "             'working on high school' : 0, \n",
    "             'high school': 0, \n",
    "             'graduated from high school': 0, \n",
    "             'dropped out of two-year college': 0,\n",
    "             'dropped out of space camp': 0,\n",
    "             'working on two-year college': 0,\n",
    "             'working on space camp': 0,\n",
    "             'space camp': 0,\n",
    "             'two-year college': 0,\n",
    "             'graduated from space camp': 0,\n",
    "             'graduated from two-year college': 0,\n",
    "             'dropped out of college/university': 0,\n",
    "             'working on college/university': 1,\n",
    "             'college/university': 1,\n",
    "             'graduated from college/university': 1,\n",
    "             'dropped out of masters program': 1,\n",
    "             'working on masters program': 2,\n",
    "             'masters program': 2,\n",
    "             'graduated from masters program': 2,\n",
    "             'dropped out of law school': 1,\n",
    "             'working on law school': 2,\n",
    "             'law school': 2,\n",
    "             'graduated from law school': 2,\n",
    "             'dropped out of med school': 1,\n",
    "             'working on med school': 2,\n",
    "             'med school': 2,\n",
    "             'graduated from med school': 2,\n",
    "             'dropped out of ph.d program': 2,\n",
    "             'working on ph.d program': 2,\n",
    "             'ph.d program': 2,\n",
    "             'graduated from ph.d program': 2}\n",
    "\n",
    "date['education_int'] = date.education.map(education_map).replace(np.nan, 0)\n",
    "print(date.education_int.unique())\n",
    "\n",
    "# Would prefer this to be an integer rather than a float\n",
    "#print(date.dtypes)\n",
    "date.education_int = date.education_int.astype(int)\n",
    "print(date.education_int.unique())\n",
    "#print(date.dtypes)"
   ]
  },
  {
   "cell_type": "markdown",
   "metadata": {},
   "source": [
    "education_int is now ready to use for analysis, it will just need to be scaled."
   ]
  },
  {
   "cell_type": "code",
   "execution_count": 736,
   "metadata": {},
   "outputs": [
    {
     "name": "stdout",
     "output_type": "stream",
     "text": [
      "agnosticism                                   2724\n",
      "other                                         2691\n",
      "agnosticism but not too serious about it      2636\n",
      "agnosticism and laughing about it             2496\n",
      "catholicism but not too serious about it      2318\n",
      "atheism                                       2175\n",
      "other and laughing about it                   2119\n",
      "atheism and laughing about it                 2074\n",
      "christianity                                  1957\n",
      "christianity but not too serious about it     1952\n",
      "other but not too serious about it            1554\n",
      "judaism but not too serious about it          1517\n",
      "atheism but not too serious about it          1318\n",
      "catholicism                                   1064\n",
      "christianity and somewhat serious about it     927\n",
      "atheism and somewhat serious about it          848\n",
      "other and somewhat serious about it            846\n",
      "catholicism and laughing about it              726\n",
      "judaism and laughing about it                  681\n",
      "buddhism but not too serious about it          650\n",
      "agnosticism and somewhat serious about it      642\n",
      "judaism                                        612\n",
      "christianity and very serious about it         578\n",
      "atheism and very serious about it              570\n",
      "catholicism and somewhat serious about it      548\n",
      "other and very serious about it                533\n",
      "buddhism and laughing about it                 466\n",
      "buddhism                                       403\n",
      "christianity and laughing about it             373\n",
      "buddhism and somewhat serious about it         359\n",
      "agnosticism and very serious about it          314\n",
      "judaism and somewhat serious about it          266\n",
      "hinduism but not too serious about it          227\n",
      "hinduism                                       107\n",
      "catholicism and very serious about it          102\n",
      "buddhism and very serious about it              70\n",
      "hinduism and somewhat serious about it          58\n",
      "islam                                           48\n",
      "hinduism and laughing about it                  44\n",
      "islam but not too serious about it              40\n",
      "islam and somewhat serious about it             22\n",
      "judaism and very serious about it               22\n",
      "islam and laughing about it                     16\n",
      "hinduism and very serious about it              14\n",
      "islam and very serious about it                 13\n",
      "Name: religion, dtype: int64\n"
     ]
    }
   ],
   "source": [
    "print(date.religion.value_counts())"
   ]
  },
  {
   "cell_type": "markdown",
   "metadata": {},
   "source": [
    "Time to clean up the religion column. This will be grouped into people who identify as religious, versus those who do not. For this analysis, 'other' will be classified as not, as will agnosticism."
   ]
  },
  {
   "cell_type": "code",
   "execution_count": 737,
   "metadata": {},
   "outputs": [
    {
     "name": "stdout",
     "output_type": "stream",
     "text": [
      "not religious    20226\n",
      "agnosticism       8812\n",
      "other             7743\n",
      "atheism           6985\n",
      "christianity      5787\n",
      "catholicism       4758\n",
      "judaism           3098\n",
      "buddhism          1948\n",
      "hinduism           450\n",
      "islam              139\n",
      "Name: religion_clean, dtype: int64\n",
      "[0 1]\n"
     ]
    }
   ],
   "source": [
    "date['religion_clean'] = date.religion.apply(lambda x: (str(x).split(' '))[0])\n",
    "date.religion_clean.replace('nan', np.NaN, inplace = True)\n",
    "date.religion_clean = date.religion_clean.apply(lambda x: 'not religious' if pd.isnull(x) else x)\n",
    "print(date.religion_clean.value_counts())\n",
    "date['religion_int'] = date.religion_clean.map({'not religious': 0, 'agnosticism': 0, 'atheism': 0, 'other': 0, 'christianity': 1, 'catholicism': 1, 'judaism': 1, 'buddhism': 1, 'hinduism': 1, 'islam': 1})\n",
    "print(date.religion_int.unique())"
   ]
  },
  {
   "cell_type": "markdown",
   "metadata": {},
   "source": [
    "Now for lifestyle choices and factors. Mapping them to numeric ordinal values"
   ]
  },
  {
   "cell_type": "code",
   "execution_count": 738,
   "metadata": {},
   "outputs": [
    {
     "name": "stdout",
     "output_type": "stream",
     "text": [
      "['sometimes' 'no' nan 'when drinking' 'yes' 'trying to quit']\n",
      "[1 0 2]\n"
     ]
    }
   ],
   "source": [
    "# Smoking\n",
    "print(date.smokes.unique())\n",
    "date['smoker_int'] = date.smokes.map({'no': 0, 'sometimes': 1, 'when drinking': 1, 'yes': 2, 'trying to quit': 2}).replace(np.nan, 0)\n",
    "date.smoker_int = date.smoker_int.astype(int)\n",
    "print(date.smoker_int.unique())"
   ]
  },
  {
   "cell_type": "code",
   "execution_count": 739,
   "metadata": {},
   "outputs": [
    {
     "name": "stdout",
     "output_type": "stream",
     "text": [
      "['socially' 'often' 'not at all' 'rarely' nan 'very often' 'desperately']\n",
      "[2 3 0 1 4 5]\n"
     ]
    }
   ],
   "source": [
    "# Drinking\n",
    "print(date.drinks.unique())\n",
    "date['drinks_int'] = date.drinks.map({'not at all': 0, 'rarely': 1, 'socially': 2, 'often': 3, 'very often': 4, 'desperately': 5}).replace(np.nan, 0)\n",
    "date.drinks_int = date.drinks_int.astype(int)\n",
    "print(date.drinks_int.unique())"
   ]
  },
  {
   "cell_type": "code",
   "execution_count": 740,
   "metadata": {},
   "outputs": [
    {
     "name": "stdout",
     "output_type": "stream",
     "text": [
      "['never' 'sometimes' nan 'often']\n",
      "[0 1 2]\n"
     ]
    }
   ],
   "source": [
    "# Drug use\n",
    "print(date.drugs.unique())\n",
    "date['drugs_int'] = date.drugs.map({'never': 0, 'sometimes': 1, 'often': 2}).replace(np.nan, 0)\n",
    "date.drugs_int = date.drugs_int.astype(int)\n",
    "print(date.drugs_int.unique())"
   ]
  },
  {
   "cell_type": "markdown",
   "metadata": {},
   "source": [
    "Now for nominal categorical columns"
   ]
  },
  {
   "cell_type": "code",
   "execution_count": 741,
   "metadata": {},
   "outputs": [
    {
     "name": "stdout",
     "output_type": "stream",
     "text": [
      "['strictly anything' 'mostly other' 'anything' 'vegetarian' nan\n",
      " 'mostly anything' 'mostly vegetarian' 'strictly vegan'\n",
      " 'strictly vegetarian' 'mostly vegan' 'strictly other' 'mostly halal'\n",
      " 'other' 'vegan' 'mostly kosher' 'strictly halal' 'halal'\n",
      " 'strictly kosher' 'kosher']\n",
      "anything      52276\n",
      "vegetarian     4986\n",
      "other          1790\n",
      "vegan           702\n",
      "kosher          115\n",
      "halal            77\n",
      "Name: diet_clean, dtype: int64\n"
     ]
    }
   ],
   "source": [
    "# Diet - this will be One-Hot Encoded.\n",
    "print(date.diet.unique())\n",
    "\n",
    "# First, sort the various diets\n",
    "date['diet_clean'] = date.diet.apply(lambda x: str(x).split(' ')[-1])\n",
    "# Given the large number of respondents who didn't list their diet, they will be reclassified as 'anything'\n",
    "date.diet_clean.replace('nan', np.NaN, inplace = True)\n",
    "date.diet_clean = date.diet_clean.apply(lambda x: 'anything' if pd.isnull(x) else x)\n",
    "print(date.diet_clean.value_counts())"
   ]
  },
  {
   "cell_type": "code",
   "execution_count": 742,
   "metadata": {},
   "outputs": [
    {
     "name": "stdout",
     "output_type": "stream",
     "text": [
      "    age       body_type               diet    drinks      drugs  \\\n",
      "0  22.0  a little extra  strictly anything  socially      never   \n",
      "1  35.0         average       mostly other     often  sometimes   \n",
      "2  38.0            thin           anything  socially        NaN   \n",
      "3  23.0            thin         vegetarian  socially        NaN   \n",
      "4  29.0        athletic                NaN  socially      never   \n",
      "\n",
      "                           education  \\\n",
      "0      working on college/university   \n",
      "1              working on space camp   \n",
      "2     graduated from masters program   \n",
      "3      working on college/university   \n",
      "4  graduated from college/university   \n",
      "\n",
      "                                              essay0  \\\n",
      "0  about me:<br />\\n<br />\\ni would love to think...   \n",
      "1  i am a chef: this is what that means.<br />\\n1...   \n",
      "2  i'm not ashamed of much, but writing public te...   \n",
      "3          i work in a library and go to school. . .   \n",
      "4  hey how's it going? currently vague on the pro...   \n",
      "\n",
      "                                              essay1  \\\n",
      "0  currently working as an international agent fo...   \n",
      "1  dedicating everyday to being an unbelievable b...   \n",
      "2  i make nerdy software for musicians, artists, ...   \n",
      "3          reading things written by old dead people   \n",
      "4                         work work work work + play   \n",
      "\n",
      "                                              essay2  \\\n",
      "0  making people laugh.<br />\\nranting about a go...   \n",
      "1  being silly. having ridiculous amonts of fun w...   \n",
      "2  improvising in different contexts. alternating...   \n",
      "3  playing synthesizers and organizing books acco...   \n",
      "4  creating imagery to look at:<br />\\nhttp://bag...   \n",
      "\n",
      "                                              essay3  ... religion_int  \\\n",
      "0  the way i look. i am a six foot half asian, ha...  ...            0   \n",
      "1                                                NaN  ...            0   \n",
      "2  my large jaw and large glasses are the physica...  ...            0   \n",
      "3                  socially awkward but i do my best  ...            0   \n",
      "4            i smile a lot and my inquisitive nature  ...            0   \n",
      "\n",
      "  smoker_int drinks_int drugs_int diet_clean_anything diet_clean_halal  \\\n",
      "0          1          2         0                   1                0   \n",
      "1          0          3         1                   0                0   \n",
      "2          0          2         0                   1                0   \n",
      "3          0          2         0                   0                0   \n",
      "4          0          2         0                   1                0   \n",
      "\n",
      "  diet_clean_kosher  diet_clean_other  diet_clean_vegan diet_clean_vegetarian  \n",
      "0                 0                 0                 0                     0  \n",
      "1                 0                 1                 0                     0  \n",
      "2                 0                 0                 0                     0  \n",
      "3                 0                 0                 0                     1  \n",
      "4                 0                 0                 0                     0  \n",
      "\n",
      "[5 rows x 46 columns]\n"
     ]
    }
   ],
   "source": [
    "# Now to OHE the diet_clean column\n",
    "\n",
    "date = pd.get_dummies(data=date, columns=['diet_clean'])\n",
    "print(date.head())\n",
    "# Looks great!"
   ]
  },
  {
   "cell_type": "code",
   "execution_count": 743,
   "metadata": {},
   "outputs": [
    {
     "name": "stdout",
     "output_type": "stream",
     "text": [
      "['straight' 'bisexual' 'gay']\n",
      "    age       body_type               diet    drinks      drugs  \\\n",
      "0  22.0  a little extra  strictly anything  socially      never   \n",
      "1  35.0         average       mostly other     often  sometimes   \n",
      "2  38.0            thin           anything  socially        NaN   \n",
      "3  23.0            thin         vegetarian  socially        NaN   \n",
      "4  29.0        athletic                NaN  socially      never   \n",
      "\n",
      "                           education  \\\n",
      "0      working on college/university   \n",
      "1              working on space camp   \n",
      "2     graduated from masters program   \n",
      "3      working on college/university   \n",
      "4  graduated from college/university   \n",
      "\n",
      "                                              essay0  \\\n",
      "0  about me:<br />\\n<br />\\ni would love to think...   \n",
      "1  i am a chef: this is what that means.<br />\\n1...   \n",
      "2  i'm not ashamed of much, but writing public te...   \n",
      "3          i work in a library and go to school. . .   \n",
      "4  hey how's it going? currently vague on the pro...   \n",
      "\n",
      "                                              essay1  \\\n",
      "0  currently working as an international agent fo...   \n",
      "1  dedicating everyday to being an unbelievable b...   \n",
      "2  i make nerdy software for musicians, artists, ...   \n",
      "3          reading things written by old dead people   \n",
      "4                         work work work work + play   \n",
      "\n",
      "                                              essay2  \\\n",
      "0  making people laugh.<br />\\nranting about a go...   \n",
      "1  being silly. having ridiculous amonts of fun w...   \n",
      "2  improvising in different contexts. alternating...   \n",
      "3  playing synthesizers and organizing books acco...   \n",
      "4  creating imagery to look at:<br />\\nhttp://bag...   \n",
      "\n",
      "                                              essay3  ... drugs_int  \\\n",
      "0  the way i look. i am a six foot half asian, ha...  ...         0   \n",
      "1                                                NaN  ...         1   \n",
      "2  my large jaw and large glasses are the physica...  ...         0   \n",
      "3                  socially awkward but i do my best  ...         0   \n",
      "4            i smile a lot and my inquisitive nature  ...         0   \n",
      "\n",
      "  diet_clean_anything diet_clean_halal diet_clean_kosher diet_clean_other  \\\n",
      "0                   1                0                 0                0   \n",
      "1                   0                0                 0                1   \n",
      "2                   1                0                 0                0   \n",
      "3                   0                0                 0                0   \n",
      "4                   1                0                 0                0   \n",
      "\n",
      "  diet_clean_vegan diet_clean_vegetarian  orientation_bisexual  \\\n",
      "0                0                     0                     0   \n",
      "1                0                     0                     0   \n",
      "2                0                     0                     0   \n",
      "3                0                     1                     0   \n",
      "4                0                     0                     0   \n",
      "\n",
      "   orientation_gay orientation_straight  \n",
      "0                0                    1  \n",
      "1                0                    1  \n",
      "2                0                    1  \n",
      "3                0                    1  \n",
      "4                0                    1  \n",
      "\n",
      "[5 rows x 48 columns]\n"
     ]
    }
   ],
   "source": [
    "# Orientation column will also be OHE\n",
    "print(date.orientation.unique())\n",
    "\n",
    "date = pd.get_dummies(data=date, columns=['orientation'])\n",
    "print(date.head())"
   ]
  },
  {
   "cell_type": "markdown",
   "metadata": {},
   "source": [
    "That looks like all of our columns are now prepared for analysis. Now, to create a subset of data and labels to train our model on, and see how accurate it is!"
   ]
  },
  {
   "cell_type": "code",
   "execution_count": 744,
   "metadata": {},
   "outputs": [
    {
     "name": "stdout",
     "output_type": "stream",
     "text": [
      "[1 3 8 ... 9 0 1]\n"
     ]
    }
   ],
   "source": [
    "# Labels subset\n",
    "#print(date.sign_clean.unique())\n",
    "# Looks like there are some nan values (identified in our EDA earlier). For the purposes of this project, all users with np.nan star sign columns will be dropped\n",
    "date = date.dropna(subset = ['sign_clean']).reset_index()\n",
    "#print(date.sign_clean.unique())\n",
    "\n",
    "date['sign_int'] = date.sign_clean.map({'leo': 0, 'gemini': 1, 'libra': 2, 'cancer':3, 'virgo': 4, 'taurus': 5, 'scorpio': 6, 'aries': 7, 'pisces': 8, 'sagittarius': 9, 'aquarius': 10, 'capricorn': 11})\n",
    "\n",
    "labels = date[['sign_int']]\n",
    "#print(labels)\n",
    "#print(type(labels))\n",
    "labels_series = labels.squeeze()\n",
    "#print(labels_series)\n",
    "labels_final = labels_series.ravel()\n",
    "print(labels_final)\n",
    "# We have our labels for our model!"
   ]
  },
  {
   "cell_type": "code",
   "execution_count": 745,
   "metadata": {},
   "outputs": [
    {
     "name": "stdout",
     "output_type": "stream",
     "text": [
      "Index(['index', 'age', 'body_type', 'diet', 'drinks', 'drugs', 'education',\n",
      "       'essay0', 'essay1', 'essay2', 'essay3', 'essay4', 'essay5', 'essay6',\n",
      "       'essay7', 'essay8', 'essay9', 'ethnicity', 'height', 'income', 'job',\n",
      "       'last_online', 'location', 'offspring', 'pets', 'religion', 'sex',\n",
      "       'sign', 'smokes', 'speaks', 'status', 'log_age', 'sign_important',\n",
      "       'sign_clean', 'education_int', 'religion_clean', 'religion_int',\n",
      "       'smoker_int', 'drinks_int', 'drugs_int', 'diet_clean_anything',\n",
      "       'diet_clean_halal', 'diet_clean_kosher', 'diet_clean_other',\n",
      "       'diet_clean_vegan', 'diet_clean_vegetarian', 'orientation_bisexual',\n",
      "       'orientation_gay', 'orientation_straight', 'sign_int'],\n",
      "      dtype='object')\n",
      "    log_age  education_int  religion_int  smoker_int  drinks_int  drugs_int  \\\n",
      "0  3.091042              1             0           1           2          0   \n",
      "1  3.555348              0             0           0           3          1   \n",
      "2  3.637586              2             0           0           2          0   \n",
      "3  3.135494              1             0           0           2          0   \n",
      "4  3.367296              1             0           0           2          0   \n",
      "\n",
      "   diet_clean_anything  diet_clean_halal  diet_clean_kosher  diet_clean_other  \\\n",
      "0                    1                 0                  0                 0   \n",
      "1                    0                 0                  0                 1   \n",
      "2                    1                 0                  0                 0   \n",
      "3                    0                 0                  0                 0   \n",
      "4                    1                 0                  0                 0   \n",
      "\n",
      "   diet_clean_vegan  diet_clean_vegetarian  orientation_bisexual  \\\n",
      "0                 0                      0                     0   \n",
      "1                 0                      0                     0   \n",
      "2                 0                      0                     0   \n",
      "3                 0                      1                     0   \n",
      "4                 0                      0                     0   \n",
      "\n",
      "   orientation_gay  orientation_straight  \n",
      "0                0                     1  \n",
      "1                0                     1  \n",
      "2                0                     1  \n",
      "3                0                     1  \n",
      "4                0                     1  \n",
      "log_age                  0\n",
      "education_int            0\n",
      "religion_int             0\n",
      "smoker_int               0\n",
      "drinks_int               0\n",
      "drugs_int                0\n",
      "diet_clean_anything      0\n",
      "diet_clean_halal         0\n",
      "diet_clean_kosher        0\n",
      "diet_clean_other         0\n",
      "diet_clean_vegan         0\n",
      "diet_clean_vegetarian    0\n",
      "orientation_bisexual     0\n",
      "orientation_gay          0\n",
      "orientation_straight     0\n",
      "dtype: int64\n"
     ]
    }
   ],
   "source": [
    "# Data subset\n",
    "print(date.columns)\n",
    "data = date[['log_age', 'education_int', 'religion_int', 'smoker_int', 'drinks_int', \n",
    "             'drugs_int', 'diet_clean_anything', 'diet_clean_halal', 'diet_clean_kosher', 'diet_clean_other',\n",
    "             'diet_clean_vegan', 'diet_clean_vegetarian', 'orientation_bisexual',\n",
    "             'orientation_gay', 'orientation_straight']]\n",
    "print(data.head())\n",
    "\n",
    "print(data.isnull().sum())"
   ]
  },
  {
   "cell_type": "code",
   "execution_count": 746,
   "metadata": {},
   "outputs": [
    {
     "name": "stdout",
     "output_type": "stream",
     "text": [
      "48890 48890\n"
     ]
    }
   ],
   "source": [
    "# Just to make sure they are the same length\n",
    "print(len(data), len(labels))\n",
    "#print(data.iloc[0:3])"
   ]
  },
  {
   "cell_type": "code",
   "execution_count": 747,
   "metadata": {},
   "outputs": [
    {
     "name": "stdout",
     "output_type": "stream",
     "text": [
      "[-1.30768965 -0.02540929 -0.64522976  1.28242989  0.20851995 -0.40381621\n",
      "  0.39356192 -0.03620466 -0.04342031 -0.18388021 -0.11146718 -0.30664265\n",
      " -0.22556166 -0.33650607  0.42030303]\n"
     ]
    }
   ],
   "source": [
    "# Now to scale the data and standardise it for model building\n",
    "scaled_data = scale(data)\n",
    "print(scaled_data[0])"
   ]
  },
  {
   "cell_type": "code",
   "execution_count": 748,
   "metadata": {},
   "outputs": [],
   "source": [
    "# Splitting the scaled data into a testing and training set.\n",
    "train_data, test_data, train_labels, test_labels = train_test_split(scaled_data, labels_final, test_size=0.2, random_state = 1) "
   ]
  },
  {
   "cell_type": "code",
   "execution_count": 749,
   "metadata": {},
   "outputs": [
    {
     "data": {
      "text/plain": [
       "KNeighborsClassifier()"
      ]
     },
     "execution_count": 749,
     "metadata": {},
     "output_type": "execute_result"
    }
   ],
   "source": [
    "# First, lets try a K Nearest Neighbors model. I will start with 12 neighbors, because that is the number of star signs.\n",
    "classifier = KNeighborsClassifier(n_neighbors=5)\n",
    "classifier.fit(train_data, train_labels)"
   ]
  },
  {
   "cell_type": "code",
   "execution_count": 752,
   "metadata": {},
   "outputs": [
    {
     "name": "stdout",
     "output_type": "stream",
     "text": [
      "0.08191859275925548\n"
     ]
    }
   ],
   "source": [
    "# Lets see how accurate our model is..\n",
    "print(classifier.score(test_data, test_labels))\n",
    "guesses = classifier.predict(test_data)"
   ]
  },
  {
   "cell_type": "code",
   "execution_count": 760,
   "metadata": {},
   "outputs": [
    {
     "name": "stdout",
     "output_type": "stream",
     "text": [
      "0.08191859275925548\n",
      "0.08191859275925548\n",
      "0.08040413629351419\n",
      "0.07293636084995476\n"
     ]
    }
   ],
   "source": [
    "print(accuracy_score(test_labels, guesses))\n",
    "print(recall_score(test_labels, guesses, average='weighted'))\n",
    "print(precision_score(test_labels, guesses, average='weighted'))\n",
    "print(f1_score(test_labels, guesses, average='weighted'))"
   ]
  },
  {
   "cell_type": "markdown",
   "metadata": {},
   "source": [
    "Not very accurate! Let's now try to visualise how accurate our model is with different n_neighbors"
   ]
  },
  {
   "cell_type": "code",
   "execution_count": 498,
   "metadata": {},
   "outputs": [
    {
     "data": {
      "image/png": "[encoded data removed]",
      "text/plain": [
       "<Figure size 432x288 with 1 Axes>"
      ]
     },
     "metadata": {},
     "output_type": "display_data"
    }
   ],
   "source": [
    "accuracies = []\n",
    "for k in range(1, 101):\n",
    "    classifier = KNeighborsClassifier(n_neighbors= k)\n",
    "    classifier.fit(train_data, train_labels)\n",
    "    accuracies.append(classifier.score(test_data, test_labels))\n",
    "    \n",
    "k_list=range(1, 101)\n",
    "plt.plot(k_list, accuracies)\n",
    "plt.xlabel('k')\n",
    "plt.ylabel('Validation Accuracy')\n",
    "plt.show()"
   ]
  },
  {
   "cell_type": "markdown",
   "metadata": {},
   "source": [
    "We can see that classifying star signs using the chosen lifestyle factors is not very accurate, less than 9% accurate with the optimal k (which is very high, and so not an ideal model to use due to overfitting). Let's try instead a random forest model and see if that improves performance at all..."
   ]
  },
  {
   "cell_type": "code",
   "execution_count": 761,
   "metadata": {
    "scrolled": true
   },
   "outputs": [
    {
     "name": "stdout",
     "output_type": "stream",
     "text": [
      "0.08457762323583555\n",
      "[0.63722441 0.0659251  0.02749303 0.05403059 0.11588973 0.04533265\n",
      " 0.00877115 0.00159122 0.00173956 0.00538676 0.00479564 0.00806117\n",
      " 0.00740147 0.00751294 0.0088446 ]\n"
     ]
    }
   ],
   "source": [
    "# Now, lets work on modelling the same dataset using a random forest method. This will allow us to see which factors have the biggest impact on modelling performance.\n",
    "\n",
    "forest = RandomForestClassifier(random_state=1)\n",
    "forest.fit(train_data, train_labels)\n",
    "print(forest.score(test_data, test_labels))\n",
    "print(forest.feature_importances_)"
   ]
  },
  {
   "cell_type": "code",
   "execution_count": 762,
   "metadata": {},
   "outputs": [
    {
     "name": "stdout",
     "output_type": "stream",
     "text": [
      "0.08457762323583555\n",
      "0.08457762323583555\n",
      "0.08341172832961244\n",
      "0.08318186804478439\n"
     ]
    }
   ],
   "source": [
    "guesses = forest.predict(test_data)\n",
    "print(accuracy_score(test_labels, guesses))\n",
    "print(recall_score(test_labels, guesses, average='weighted'))\n",
    "print(precision_score(test_labels, guesses, average='weighted'))\n",
    "print(f1_score(test_labels, guesses, average='weighted'))"
   ]
  },
  {
   "cell_type": "markdown",
   "metadata": {},
   "source": [
    "Still very ineffective.. Looks from this like lifestyle factors are pretty ineffective at predicting what star sign an individual is. The most significant factors are age and the users drinking habits.\n",
    "Next, we will examine the essays entered by users and see if they can better predict individuals' star sign. For this we will use a Naive Bayes classification model."
   ]
  },
  {
   "cell_type": "markdown",
   "metadata": {},
   "source": [
    "First, create a replica dataframe to clean up and use for NB modelling."
   ]
  },
  {
   "cell_type": "code",
   "execution_count": 763,
   "metadata": {},
   "outputs": [
    {
     "name": "stdout",
     "output_type": "stream",
     "text": [
      "   sign_int                                             essay0  \\\n",
      "0         1  about me:<br />\\n<br />\\ni would love to think...   \n",
      "1         3  i am a chef: this is what that means.<br />\\n1...   \n",
      "2         8  i'm not ashamed of much, but writing public te...   \n",
      "3         8          i work in a library and go to school. . .   \n",
      "4        10  hey how's it going? currently vague on the pro...   \n",
      "\n",
      "                                              essay1  \\\n",
      "0  currently working as an international agent fo...   \n",
      "1  dedicating everyday to being an unbelievable b...   \n",
      "2  i make nerdy software for musicians, artists, ...   \n",
      "3          reading things written by old dead people   \n",
      "4                         work work work work + play   \n",
      "\n",
      "                                              essay2  \\\n",
      "0  making people laugh.<br />\\nranting about a go...   \n",
      "1  being silly. having ridiculous amonts of fun w...   \n",
      "2  improvising in different contexts. alternating...   \n",
      "3  playing synthesizers and organizing books acco...   \n",
      "4  creating imagery to look at:<br />\\nhttp://bag...   \n",
      "\n",
      "                                              essay3  \\\n",
      "0  the way i look. i am a six foot half asian, ha...   \n",
      "1                                                NaN   \n",
      "2  my large jaw and large glasses are the physica...   \n",
      "3                  socially awkward but i do my best   \n",
      "4            i smile a lot and my inquisitive nature   \n",
      "\n",
      "                                              essay4  \\\n",
      "0  books:<br />\\nabsurdistan, the republic, of mi...   \n",
      "1  i am die hard christopher moore fan. i don't r...   \n",
      "2  okay this is where the cultural matrix gets so...   \n",
      "3  bataille, celine, beckett. . .<br />\\nlynch, j...   \n",
      "4  music: bands, rappers, musicians<br />\\nat the...   \n",
      "\n",
      "                                              essay5  \\\n",
      "0  food.<br />\\nwater.<br />\\ncell phone.<br />\\n...   \n",
      "1  delicious porkness in all of its glories.<br /...   \n",
      "2  movement<br />\\nconversation<br />\\ncreation<b...   \n",
      "3                                                NaN   \n",
      "4                                                NaN   \n",
      "\n",
      "                        essay6  \\\n",
      "0  duality and humorous things   \n",
      "1                          NaN   \n",
      "2                          NaN   \n",
      "3   cats and german philosophy   \n",
      "4                          NaN   \n",
      "\n",
      "                                              essay7  \\\n",
      "0  trying to find someone to hang out with. i am ...   \n",
      "1                                                NaN   \n",
      "2  viewing. listening. dancing. talking. drinking...   \n",
      "3                                                NaN   \n",
      "4                                                NaN   \n",
      "\n",
      "                                              essay8  \\\n",
      "0  i am new to california and looking for someone...   \n",
      "1  i am very open and will share just about anyth...   \n",
      "2  when i was five years old, i was known as \"the...   \n",
      "3                                                NaN   \n",
      "4                                                NaN   \n",
      "\n",
      "                                              essay9  \n",
      "0  you want to be swept off your feet!<br />\\nyou...  \n",
      "1                                                NaN  \n",
      "2  you are bright, open, intense, silly, ironic, ...  \n",
      "3                              you feel so inclined.  \n",
      "4                                                NaN  \n"
     ]
    }
   ],
   "source": [
    "date_NB = date[['sign_int', 'essay0', 'essay1', 'essay2', 'essay3', 'essay4', 'essay5', 'essay6', 'essay7', 'essay8', 'essay9']]\n",
    "print(date_NB.head())"
   ]
  },
  {
   "cell_type": "code",
   "execution_count": 764,
   "metadata": {},
   "outputs": [
    {
     "name": "stdout",
     "output_type": "stream",
     "text": [
      "sign_int    0\n",
      "essay0      0\n",
      "essay1      0\n",
      "essay2      0\n",
      "essay3      0\n",
      "essay4      0\n",
      "essay5      0\n",
      "essay6      0\n",
      "essay7      0\n",
      "essay8      0\n",
      "essay9      0\n",
      "dtype: int64\n",
      "[1 5 3 ... 9 0 1]\n"
     ]
    }
   ],
   "source": [
    "# Can still use labels_final as labels from previous modelling, but will need to remove null values from essays first.\n",
    "date_NB = date_NB.dropna(subset=['essay0', 'essay1', 'essay2', 'essay3', 'essay4', 'essay5', 'essay6', 'essay7', 'essay8', 'essay9'])\n",
    "print(date_NB.isnull().sum())\n",
    "\n",
    "labels = date_NB[['sign_int']]\n",
    "#print(labels)\n",
    "#print(type(labels))\n",
    "labels_series = labels.squeeze()\n",
    "#print(labels_series)\n",
    "labels_final = labels_series.ravel()\n",
    "print(labels_final)"
   ]
  },
  {
   "cell_type": "code",
   "execution_count": 819,
   "metadata": {},
   "outputs": [
    {
     "name": "stdout",
     "output_type": "stream",
     "text": [
      "about me i would love to think that i was some some kind of intellectual either the dumbest smart guy or the smartest dumb guy cant say i can tell the difference i love to talk about ideas and concepts i forge odd metaphors instead of reciting cliches like the simularities between a friend of mines house and an underwater salt mine my favorite word is salt by the way weird choice i know to me most things in life are better as metaphors i seek to make myself a little better everyday in some productively lazy way got tired of tying my shoes considered hiring a five year old but would probably have to tie both of our shoes decided to only wear leather shoes dress shoes about you you love to have really serious really deep conversations about really silly stuff you have to be willing to snap me out of a light hearted rant with a kiss you dont have to be funny but you have to be able to make me laugh you should be able to bend spoons with your mind and telepathically make me smile while i am still at work you should love life and be cool with just letting the wind blow extra points for reading all this and guessing my favorite video game no hints given yet and lastly you have a good attention span currently working as an international agent for a freight forwarding company import export domestic you know the works online classes and trying to better myself in my free time perhaps a hours worth of a good book or a video game on a lazy sunday making people laugh ranting about a good salting finding simplicity in complexity and complexity in simplicity the way i look i am a six foot half asian half caucasian mutt it makes it tough not to notice me and for me to blend in books absurdistan the republic of mice and men only book that made me want to cry catcher in the rye the prince movies gladiator operation valkyrie the producers down periscope shows the borgia arrested development game of thrones monty python music aesop rock hail mary mallon george thorogood and the delaware destroyers felt food im down for anything food water cell phone shelter duality and humorous thingstrying to find someone to hang out with i am down for anything except a club i am new to california and looking for someone to wisper my secrets to you want to be swept off your feet you are tired of the norm you want to catch a coffee or a bite or if you want to talk philosophy \n"
     ]
    }
   ],
   "source": [
    "# Cleaning  up essay text to remove tags, whitespace, special characters and newlines using regex\n",
    "\n",
    "date_NB['all_essays'] = date_NB.loc[:, ('essay0')] + date_NB.loc[:, ('essay1')] + date_NB.loc[:, ('essay2')] + date_NB.loc[:, ('essay3')] + date_NB.loc[:, ('essay4')] + date_NB.loc[:, ('essay5')] + date_NB.loc[:, ('essay6')] + date_NB.loc[:, ('essay7')] + date_NB.loc[:, ('essay8')] + date_NB.loc[:, ('essay9')]\n",
    "#print(date_NB.all_essays[0])\n",
    "all_essays = date_NB[['all_essays']]\n",
    "#print(type(all_essays))\n",
    "#for i in range()\n",
    "all_essays_series = all_essays.squeeze()\n",
    "#print(all_essays_series)\n",
    "all_essays_final = all_essays_series.ravel()\n",
    "#print(all_essays_final)\n",
    "for i in range(len(all_essays_final)):\n",
    "    essay = re.sub(r'<br\\s.?>', ' ', all_essays_final[i])\n",
    "    all_essays_final[i] = essay\n",
    "for i in range(len(all_essays_final)):\n",
    "    essay = re.sub(r'\\.', ' ', all_essays_final[i])\n",
    "    all_essays_final[i] = essay\n",
    "for i in range(len(all_essays_final)):\n",
    "    essay = re.sub(r':', ' ', all_essays_final[i])\n",
    "    all_essays_final[i] = essay\n",
    "for i in range(len(all_essays_final)):\n",
    "    essay = re.sub(r'\\n', ' ', all_essays_final[i])\n",
    "    all_essays_final[i] = essay\n",
    "for i in range(len(all_essays_final)):\n",
    "    essay = re.sub(r',', ' ', all_essays_final[i])\n",
    "    all_essays_final[i] = essay\n",
    "for i in range(len(all_essays_final)):\n",
    "    essay = re.sub(r'\\(', '', all_essays_final[i])\n",
    "    all_essays_final[i] = essay\n",
    "for i in range(len(all_essays_final)):\n",
    "    essay = re.sub(r'\\)', '', all_essays_final[i])\n",
    "    all_essays_final[i] = essay\n",
    "for i in range(len(all_essays_final)):\n",
    "    essay = re.sub(r'\\'', '', all_essays_final[i])\n",
    "    all_essays_final[i] = essay\n",
    "for i in range(len(all_essays_final)):\n",
    "    essay = all_essays_final[i].lower()\n",
    "    all_essays_final[i] = essay\n",
    "for i in range(len(all_essays_final)):\n",
    "    essay = re.sub(r'!', '', all_essays_final[i])\n",
    "    all_essays_final[i] = essay\n",
    "for i in range(len(all_essays_final)):\n",
    "    essay = re.sub(r'\\?', '', all_essays_final[i])\n",
    "    all_essays_final[i] = essay\n",
    "for i in range(len(all_essays_final)):\n",
    "    essay = re.sub(r'\\s+', ' ', all_essays_final[i])\n",
    "    all_essays_final[i] = essay\n",
    "print(all_essays_final[0])"
   ]
  },
  {
   "cell_type": "code",
   "execution_count": 810,
   "metadata": {},
   "outputs": [],
   "source": [
    "# Splitting the scaled data into a testing and training set.\n",
    "train_data, test_data, train_labels, test_labels = train_test_split(all_essays_final, labels_final, test_size=0.2) "
   ]
  },
  {
   "cell_type": "code",
   "execution_count": 811,
   "metadata": {},
   "outputs": [],
   "source": [
    "# Building the NB model\n",
    "counter = CountVectorizer()\n",
    "counter.fit(train_data)\n",
    "train_counts = counter.transform(train_data)\n",
    "test_counts = counter.transform(test_data)"
   ]
  },
  {
   "cell_type": "code",
   "execution_count": 812,
   "metadata": {},
   "outputs": [
    {
     "name": "stdout",
     "output_type": "stream",
     "text": [
      "0.08671516079632466\n",
      "[[ 78  92  77  29  37  44  12  33  13  29   7   1]\n",
      " [ 85  94  76  32  34  39  13  36   5  29   6   0]\n",
      " [ 82  92  85  23  39  55  18  27  11  25   8   1]\n",
      " [ 79 102  88  36  41  35   9  26  11  28  14   0]\n",
      " [ 90  88  84  30  29  44  14  26   8  30   8   1]\n",
      " [ 71  85  64  36  46  47  10  28   6  31   6   0]\n",
      " [ 68  92  78  30  43  44  10  24   8  26  13   0]\n",
      " [ 71  73  73  36  28  46  14  23   9  32  13   0]\n",
      " [ 82  80  75  34  43  31  10  27  10  29  10   1]\n",
      " [ 79  92  68  30  23  31  11  27   9  34   5   0]\n",
      " [ 71  91  75  41  30  40  12  25   5  30   5   0]\n",
      " [ 72  90  60  24  31  32  10  24   9  26   6   2]]\n"
     ]
    }
   ],
   "source": [
    "# Training and predicting models\n",
    "classifier = MultinomialNB()\n",
    "classifier.fit(train_counts, train_labels)\n",
    "predictions = classifier.predict(test_counts)\n",
    "\n",
    "print(accuracy_score(test_labels, predictions))\n",
    "print(confusion_matrix(test_labels, predictions))"
   ]
  },
  {
   "cell_type": "code",
   "execution_count": 817,
   "metadata": {},
   "outputs": [
    {
     "name": "stdout",
     "output_type": "stream",
     "text": [
      "0.08671516079632466\n",
      "0.08671516079632466\n",
      "0.10125930432373936\n",
      "0.0734906726357948\n"
     ]
    }
   ],
   "source": [
    "print(accuracy_score(test_labels, predictions))\n",
    "print(recall_score(test_labels, predictions, average='weighted'))\n",
    "print(precision_score(test_labels, predictions, average='weighted'))\n",
    "print(f1_score(test_labels, predictions, average='weighted'))"
   ]
  },
  {
   "cell_type": "markdown",
   "metadata": {},
   "source": [
    "Not a much higher accuracy score... still less than 10%!\n",
    "Still interested to see how well it can predict some sample text. Let's try descriptions of some different star signs and see how well our model does in predicting them."
   ]
  },
  {
   "cell_type": "code",
   "execution_count": 818,
   "metadata": {},
   "outputs": [
    {
     "name": "stdout",
     "output_type": "stream",
     "text": [
      "[8]\n",
      "[4]\n",
      "[7]\n",
      "[9]\n",
      "[8]\n",
      "[3]\n",
      "[5]\n",
      "[5]\n"
     ]
    }
   ],
   "source": [
    "# Testing essays using the descriptions of several different star signs. It did well predicting them correctly! Almost all correctly predicted!\n",
    "\n",
    "essay = 'Pisces signs are sensitive, and get along well in small groups of people. Sometimes, a Pisces may feel like they have an internal and external self, and they may need to spend a lot of time solo to recalibrate those two halves of themselves. A Pisces is rarely lonely when they are by themselves, and have an active imagination. Creative, Pisces love spending time reading, exploring or creating art or music, and understanding their emotions through art.'\n",
    "essay_counts = counter.transform([essay])\n",
    "print(classifier.predict(essay_counts))\n",
    "\n",
    "essay2 ='Virgo has a rich inner life, and can sometimes seem shy at first meeting. A Virgo won\\'t spill secrets right away, and it\\'s important to earn a Virgo\\'s trust. But once you do, that Virgin will be a friend for life. And if you think that you\\'re dating a shy Virgo, trust that those walls will fall down in the bedroom. One of the most passionate signs, Virgos specialize at connecting to their physicality, and this earth sign loves and celebrates physical connection with their partner.'\n",
    "essay2_counts = counter.transform([essay2])\n",
    "print(classifier.predict(essay2_counts))\n",
    "\n",
    "essay3 ='The first sign of the Zodiac, Aries are the trailblazers. Passionate and independent, Aries will never do something just because everyone else is doing it—a Ram needs to be 100 percent committed to the task at hand. Competitive to the max, the best way to motivate an Aries is to turn something into a contest. Aries will put everything they have (and then some) into winning. Loyal, smart, and impulsive, they always have multiple projects on their mind, and won\\'t be satisfied until their work, social life, and personal lives line up exactly with the dream life they\\'ve envisioned. Those who are drawn to magnetic Aries may have trouble keeping up—but if they can, they\\'ll have a friend for life'\n",
    "essay3_counts = counter.transform([essay3])\n",
    "print(classifier.predict(essay3_counts))\n",
    "\n",
    "essay4 = 'Independent and strong-willed, Sagittarius personalities are all about going off the beaten path. Sagittarius isn’t afraid to step away from the pack, and is a natural born leader who goes after what he or she wants, regardless of what other people think. Sagittarius is a born adventurer, and loves solo travel and exploration. Sagittarius also loves exploring the inner workings of their minds, and love stretching their horizons through a good book or movie.'\n",
    "essay4_counts = counter.transform([essay4])\n",
    "print(classifier.predict(essay4_counts))\n",
    "\n",
    "essay5 = 'Passionate, independent, and unafraid to blaze their own trail no matter what others think, Scorpio signs make a statement wherever they go. They love debates, aren\\'t afraid of controversy, and won\\'t back down from a debate. They also hate people who aren\\'t genuine, and are all about being authentic—even if authentic isn\\'t pretty.'\n",
    "essay5_counts = counter.transform([essay5])\n",
    "print(classifier.predict(essay5_counts))\n",
    "\n",
    "essay6 = 'Emotional, intuitive, and practically psychic; ruled by the moon and characterized by the crab, Cancer has so much going on in its watery depths. Cancer signs may seem prickly and standoffish at first meeting, once they make the decision to become friends with someone, that person has a friend for life.'\n",
    "essay6_counts = counter.transform([essay6])\n",
    "print(classifier.predict(essay6_counts))\n",
    "\n",
    "essay7 = 'Smart, ambitious, and trustworthy, Taurus is the anchor of the Zodiac. Amazing friends, colleagues, and partners, Taureans value honesty above all else and are proud that their personal relationships tend to be drama free. Bulls get the reputation of being stubborn, but they\\'re not always stuck in their ways. This searching sign is willing to see another point of view, but they won\\'t flip-flop on an opinion just to make someone else happy. They will shift their thinking only if they truly have a change of heart.'\n",
    "essay7_counts = counter.transform([essay7])\n",
    "print(classifier.predict(essay7_counts))\n",
    "\n",
    "essay8 = 'Bold, intelligent, warm, and courageous, fire sign Leo is a natural leader of the Zodiac, ready to blaze a trail, vanquish injustice, and make a name for themselves along the way. Blessed with high self-esteem, Lions know that they possess enviable traits—and they\\'re proud of them. They don\\'t believe in false modesty and will be the first to praise themselves for a job well done. But Leo isn\\'t self-aggrandizing or unwilling to roll up those sleeves and do the work: this sign knows that in order to be respected and admired, he or she needs to put in the effort worthy of a leader.'\n",
    "essay8_counts = counter.transform([essay8])\n",
    "print(classifier.predict(essay8_counts))"
   ]
  },
  {
   "cell_type": "markdown",
   "metadata": {},
   "source": [
    "It turns out that neither lifestyle factors, nor language used in essays are accurate at predicting the star sign of OK Cupid users :( despite accurate prediction of sample text from personality descriptions of zodiac signs, the model could not accurately predict users star sign in the test group. Nor could the model accurately predict the star sign of the test group based on lifestyle factors."
   ]
  }
 ],
 "metadata": {
  "kernelspec": {
   "display_name": "Python 3",
   "language": "python",
   "name": "python3"
  },
  "language_info": {
   "codemirror_mode": {
    "name": "ipython",
    "version": 3
   },
   "file_extension": ".py",
   "mimetype": "text/x-python",
   "name": "python",
   "nbconvert_exporter": "python",
   "pygments_lexer": "ipython3",
   "version": "3.8.5"
  }
 },
 "nbformat": 4,
 "nbformat_minor": 4
}
